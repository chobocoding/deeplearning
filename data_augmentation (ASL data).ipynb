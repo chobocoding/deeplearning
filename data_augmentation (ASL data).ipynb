{
  "nbformat": 4,
  "nbformat_minor": 0,
  "metadata": {
    "colab": {
      "name": "hw3_201711001.ipynb",
      "provenance": [],
      "collapsed_sections": [],
      "authorship_tag": "ABX9TyPrZaILj6kj1shGpC4zo8Wh",
      "include_colab_link": true
    },
    "kernelspec": {
      "name": "python3",
      "display_name": "Python 3"
    },
    "language_info": {
      "name": "python"
    },
    "accelerator": "GPU"
  },
  "cells": [
    {
      "cell_type": "markdown",
      "metadata": {
        "id": "view-in-github",
        "colab_type": "text"
      },
      "source": [
        "<a href=\"https://colab.research.google.com/github/chobocoding/deeplearning/blob/main/data_augmentation%20(ASL%20data)\" target=\"_parent\"><img src=\"https://colab.research.google.com/assets/colab-badge.svg\" alt=\"Open In Colab\"/></a>"
      ]
    },
    {
      "cell_type": "code",
      "metadata": {
        "colab": {
          "base_uri": "https://localhost:8080/"
        },
        "id": "oMxwZ0uuEKb_",
        "outputId": "b3b21240-15f2-4175-c6f2-5c3a55c35404"
      },
      "source": [
        "from google.colab import drive\n",
        "drive.mount('/content/drive')"
      ],
      "execution_count": null,
      "outputs": [
        {
          "output_type": "stream",
          "name": "stdout",
          "text": [
            "Mounted at /content/drive\n"
          ]
        }
      ]
    },
    {
      "cell_type": "code",
      "metadata": {
        "id": "Az0pkotJEMFc"
      },
      "source": [
        "import pandas as pd\n",
        "import numpy as np\n",
        "import os\n",
        "\n",
        "os.chdir('/content/drive/MyDrive/Colab Notebooks/IT융합/asl_data')"
      ],
      "execution_count": null,
      "outputs": []
    },
    {
      "cell_type": "code",
      "metadata": {
        "id": "tBdcBC3pEMq3"
      },
      "source": [
        "train_df = pd.read_csv('sign_mnist_train.csv')\n",
        "valid_df = pd.read_csv('sign_mnist_valid.csv')"
      ],
      "execution_count": null,
      "outputs": []
    },
    {
      "cell_type": "code",
      "metadata": {
        "colab": {
          "base_uri": "https://localhost:8080/"
        },
        "id": "s5WlAvf1EeCR",
        "outputId": "bd98ac08-2a53-455b-f946-7e30df0417e1"
      },
      "source": [
        "train_df.shape"
      ],
      "execution_count": null,
      "outputs": [
        {
          "output_type": "execute_result",
          "data": {
            "text/plain": [
              "(27455, 785)"
            ]
          },
          "metadata": {},
          "execution_count": 4
        }
      ]
    },
    {
      "cell_type": "code",
      "metadata": {
        "id": "FKOmYdLNEnZr"
      },
      "source": [
        "y_train = train_df['label']\n",
        "y_valid = valid_df['label']\n",
        "\n",
        "del train_df['label']\n",
        "del valid_df['label']\n",
        "\n",
        "x_train = train_df.values\n",
        "x_valid = valid_df.values"
      ],
      "execution_count": null,
      "outputs": []
    },
    {
      "cell_type": "code",
      "metadata": {
        "id": "bZ-hmBjDFDW9"
      },
      "source": [
        "from PIL import Image\n",
        "image = x_train[0, :].reshape(28, 28)\n",
        "img_pil = Image.fromarray(np.uint8(image))"
      ],
      "execution_count": null,
      "outputs": []
    },
    {
      "cell_type": "code",
      "metadata": {
        "colab": {
          "base_uri": "https://localhost:8080/",
          "height": 45
        },
        "id": "yMbeKNfMFLrs",
        "outputId": "0c7f267e-b28d-4d02-84ad-98df1e3725cc"
      },
      "source": [
        "img_pil"
      ],
      "execution_count": null,
      "outputs": [
        {
          "output_type": "execute_result",
          "data": {
            "image/png": "[encoded data removed]",
            "text/plain": [
              "<PIL.Image.Image image mode=L size=28x28 at 0x7F092AB7C550>"
            ]
          },
          "metadata": {},
          "execution_count": 7
        }
      ]
    },
    {
      "cell_type": "code",
      "metadata": {
        "id": "GqdWU34OFUkR"
      },
      "source": [
        "import torchvision.transforms as transforms\n",
        "\n",
        "transform = transforms.Compose([\n",
        "                                transforms.Resize(32),\n",
        "                                transforms.RandomCrop(28)\n",
        "])"
      ],
      "execution_count": null,
      "outputs": []
    },
    {
      "cell_type": "code",
      "metadata": {
        "colab": {
          "base_uri": "https://localhost:8080/",
          "height": 45
        },
        "id": "2R3LpC8GF7uD",
        "outputId": "a949a79b-4055-4b7b-b0e0-e2bb562a5dbc"
      },
      "source": [
        "transform(img_pil)"
      ],
      "execution_count": null,
      "outputs": [
        {
          "output_type": "execute_result",
          "data": {
            "image/png": "[encoded data removed]",
            "text/plain": [
              "<PIL.Image.Image image mode=L size=28x28 at 0x7F092AC96B90>"
            ]
          },
          "metadata": {},
          "execution_count": 9
        }
      ]
    },
    {
      "cell_type": "markdown",
      "metadata": {
        "id": "HR_utAzVGuZt"
      },
      "source": [
        "1. Data preparation"
      ]
    },
    {
      "cell_type": "code",
      "metadata": {
        "id": "dY3O-zSPG7_d"
      },
      "source": [
        "import torch\n",
        "from torch.utils.data import Dataset, DataLoader\n",
        "device = torch.device(\"cuda:0\")"
      ],
      "execution_count": null,
      "outputs": []
    },
    {
      "cell_type": "code",
      "metadata": {
        "id": "6F1DD608GisB"
      },
      "source": [
        "class ASL_Dataset(Dataset):\n",
        "    def __init__(self, path, transform=None):\n",
        "        super(ASL_Dataset, self).__init__()\n",
        "\n",
        "        train_df = pd.read_csv(path)\n",
        "        y_train = train_df['label']\n",
        "        del train_df['label']\n",
        "        x_train = train_df.values\n",
        "\n",
        "        self.x_train = x_train\n",
        "        self.y_train = y_train\n",
        "        self.transform = transform\n",
        "\n",
        "    def __getitem__(self, index):\n",
        "        x_train_sample = np.uint8(self.x_train[index].reshape(28, 28))\n",
        "\n",
        "        if self.transform:\n",
        "            x_train_pil = Image.fromarray(x_train_sample)\n",
        "            x_train_np = np.array(self.transform(x_train_pil))\n",
        "            x_train_tensor = torch.tensor(x_train_np[np.newaxis, :, : ]).float().to(device)  # CxHxW >> 1x28x28\n",
        "        else:\n",
        "            x_train_tensor = torch.tensor(x_train_sample[np.newaxis, :, : ]).float().to(device)  # CxHxW >> 1x28x28\n",
        "\n",
        "        y_train_tensor = torch.tensor(self.y_train[index]).to(device)\n",
        "\n",
        "        return x_train_tensor, y_train_tensor\n",
        "\n",
        "    def __len__(self):\n",
        "        return self.x_train.shape[0]\n"
      ],
      "execution_count": null,
      "outputs": []
    },
    {
      "cell_type": "code",
      "metadata": {
        "id": "UaltHc36JTjA"
      },
      "source": [
        "training_data = ASL_Dataset(\"sign_mnist_train.csv\", transform=transform)\n",
        "validataion_data = ASL_Dataset(\"sign_mnist_valid.csv\", transform=None)"
      ],
      "execution_count": null,
      "outputs": []
    },
    {
      "cell_type": "code",
      "metadata": {
        "id": "gELrtB-wG5hV"
      },
      "source": [
        "train_loader = DataLoader(dataset=training_data, batch_size=1000, shuffle=True)\n",
        "validation_loader = DataLoader(dataset=validataion_data, batch_size=1000, shuffle=False)"
      ],
      "execution_count": null,
      "outputs": []
    },
    {
      "cell_type": "markdown",
      "metadata": {
        "id": "y33CQrqkJ9sH"
      },
      "source": [
        "2. Constructing a CNN"
      ]
    },
    {
      "cell_type": "code",
      "metadata": {
        "id": "Eg02bE2gKExP"
      },
      "source": [
        "import torch.nn as nn\n",
        "\n",
        "class ConvNet(nn.Module):\n",
        "    def __init__(self):\n",
        "        super(ConvNet, self).__init__()\n",
        "        self.conv1 = nn.Conv2d(1, 16, 3, padding=1)\n",
        "        self.conv2 = nn.Conv2d(16, 32, 3, padding=1)\n",
        "        self.conv3 = nn.Conv2d(32, 64, 4, padding=1)\n",
        "        self.conv4 = nn.Conv2d(64, 256, 3, padding=1)\n",
        "\n",
        "        self.relu = nn.ReLU()\n",
        "        self.norm1 = nn.BatchNorm2d(32)\n",
        "        self.norm2 = nn.BatchNorm2d(256)\n",
        "        self.pool = nn.MaxPool2d(2, 2)\n",
        "\n",
        "        self.fc1 = nn.Linear(256*3*3, 256)\n",
        "        self.fc2 = nn.Linear(256, 24)\n",
        "\n",
        "    def forward(self, x):\n",
        "        x = self.conv1(x) # 1*28*28  > 16*28*28\n",
        "        x = self.relu(x) \n",
        "        x = self.pool(x) # 16*14*14\n",
        "\n",
        "        x = self.conv2(x) # 32*14*14\n",
        "        x = self.norm1(x)\n",
        "        x = self.relu(x) \n",
        "        x = self.pool(x) # 64*7*7\n",
        "\n",
        "        x = self.conv3(x) # 64*6*6\n",
        "        x = self.relu(x)\n",
        "\n",
        "        x = self.conv4(x) # 256*6*6\n",
        "        x = self.norm2(x)\n",
        "        x = self.relu(x) \n",
        "        x = self.pool(x) # 256*3*3\n",
        "\n",
        "        x = x.view(-1, 256*3*3)\n",
        "\n",
        "        x = self.fc1(x)\n",
        "        x = self.relu(x)\n",
        "\n",
        "        x = self.fc2(x)\n",
        "\n",
        "        return x"
      ],
      "execution_count": null,
      "outputs": []
    },
    {
      "cell_type": "code",
      "metadata": {
        "id": "Oy1PWs3BNr7Q"
      },
      "source": [
        "convnet = ConvNet().to(device)"
      ],
      "execution_count": null,
      "outputs": []
    },
    {
      "cell_type": "markdown",
      "metadata": {
        "id": "u9PMUdQVN10n"
      },
      "source": [
        "Loss function and Optimization"
      ]
    },
    {
      "cell_type": "code",
      "metadata": {
        "id": "WXySPfDVNvXE"
      },
      "source": [
        "loss_function = nn.CrossEntropyLoss()\n",
        "optimizer = torch.optim.Adam(convnet.parameters(), lr=0.001)"
      ],
      "execution_count": null,
      "outputs": []
    },
    {
      "cell_type": "markdown",
      "metadata": {
        "id": "TtvrxTyYOFQh"
      },
      "source": [
        "training of Neural Net"
      ]
    },
    {
      "cell_type": "code",
      "metadata": {
        "colab": {
          "base_uri": "https://localhost:8080/"
        },
        "id": "-otuyePBOEtZ",
        "outputId": "268cbdf9-0d91-413f-bc8a-08f62dcb55c2"
      },
      "source": [
        "for epoch in range(6):\n",
        "\n",
        "    loss_val = 0\n",
        "\n",
        "    for itr, data in enumerate(train_loader):\n",
        "        optimizer.zero_grad()\n",
        "\n",
        "        inputs, labels = data\n",
        "\n",
        "        pred = convnet(inputs)\n",
        "        loss = loss_function(pred, labels)\n",
        "\n",
        "        loss.backward()\n",
        "        optimizer.step()\n",
        "\n",
        "        loss_val += loss.item()\n",
        "    print(\"Epoch :\", epoch+1, \", Loss :\", loss_val)"
      ],
      "execution_count": null,
      "outputs": [
        {
          "output_type": "stream",
          "name": "stdout",
          "text": [
            "Epoch : 1 , Loss : 49.38955610990524\n",
            "Epoch : 2 , Loss : 10.613447189331055\n",
            "Epoch : 3 , Loss : 3.1670643016695976\n",
            "Epoch : 4 , Loss : 1.2059763707220554\n",
            "Epoch : 5 , Loss : 0.6057356279343367\n",
            "Epoch : 6 , Loss : 0.3333871643990278\n"
          ]
        }
      ]
    },
    {
      "cell_type": "markdown",
      "metadata": {
        "id": "-7I3tToPS1b0"
      },
      "source": [
        "prediction"
      ]
    },
    {
      "cell_type": "code",
      "metadata": {
        "colab": {
          "base_uri": "https://localhost:8080/"
        },
        "id": "8KcdKGWrRgHw",
        "outputId": "c4d2d499-1384-40ea-f6b6-5dc63922f19f"
      },
      "source": [
        "pred_list = []\n",
        "label_list = []\n",
        "for itr, data in enumerate(validation_loader):\n",
        "    inputs, labels = data\n",
        "    pred_test = convnet(inputs)\n",
        "\n",
        "    pred_category = torch.argmax(pred_test, dim=1)\n",
        "\n",
        "    pred_list  = pred_list + list(pred_category.cpu())\n",
        "    label_list = label_list + list(labels.cpu())\n",
        "\n",
        "accu = np.mean(np.array(pred_list) == np.array(label_list))\n",
        "print(\"Test accuracy :\", accu)"
      ],
      "execution_count": null,
      "outputs": [
        {
          "output_type": "stream",
          "name": "stdout",
          "text": [
            "Test accuracy : 0.9564974902398216\n"
          ]
        }
      ]
    },
    {
      "cell_type": "code",
      "metadata": {
        "id": "EcukqJ-ZT3Mu"
      },
      "source": [
        ""
      ],
      "execution_count": null,
      "outputs": []
    }
  ]
}
