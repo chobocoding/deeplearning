{
  "nbformat": 4,
  "nbformat_minor": 0,
  "metadata": {
    "colab": {
      "name": "hw3_201711001.ipynb",
      "provenance": [],
      "collapsed_sections": [],
      "include_colab_link": true
    },
    "kernelspec": {
      "name": "python3",
      "display_name": "Python 3"
    },
    "language_info": {
      "name": "python"
    },
    "accelerator": "GPU"
  },
  "cells": [
    {
      "cell_type": "markdown",
      "metadata": {
        "id": "view-in-github",
        "colab_type": "text"
      },
      "source": [
        "<a href=\"https://colab.research.google.com/github/chobocoding/deeplearning/blob/main/PPG(Conv1d).ipynb\" target=\"_parent\"><img src=\"https://colab.research.google.com/assets/colab-badge.svg\" alt=\"Open In Colab\"/></a>"
      ]
    },
    {
      "cell_type": "code",
      "metadata": {
        "colab": {
          "base_uri": "https://localhost:8080/"
        },
        "id": "taCPEf6586ah",
        "outputId": "767e4bb4-ad7a-407c-bd71-3977226af5a8"
      },
      "source": [
        "from google.colab import drive\n",
        "drive.mount('/content/drive')"
      ],
      "execution_count": null,
      "outputs": [
        {
          "output_type": "stream",
          "name": "stdout",
          "text": [
            "Mounted at /content/drive\n"
          ]
        }
      ]
    },
    {
      "cell_type": "code",
      "metadata": {
        "id": "ZNOwYauGRCl_"
      },
      "source": [
        "import glob\n",
        "import numpy as np\n",
        "import torch\n",
        "import torch.nn as nn\n",
        "import torch.optim as optim\n",
        "from torch.utils.data import Dataset, DataLoader\n",
        "\n",
        "import os\n",
        "os.chdir('/content/drive/MyDrive/Colab Notebooks/IT융합/ppg')"
      ],
      "execution_count": null,
      "outputs": []
    },
    {
      "cell_type": "code",
      "metadata": {
        "id": "msyiLVipTFR6"
      },
      "source": [
        "training_subject_list = [2,3,4,5,6,7,8,9,10,11,13,14]\n",
        "validation_subject_list = [15,16]\n",
        "test_subject_list = [17]"
      ],
      "execution_count": null,
      "outputs": []
    },
    {
      "cell_type": "code",
      "metadata": {
        "id": "DJsC49PBT2zE"
      },
      "source": [
        "class PPG_Dataset(Dataset):\n",
        "    def __init__(self, subject_list):\n",
        "        super(PPG_Dataset, self).__init__()\n",
        "\n",
        "        ppg_list = []\n",
        "        for sbj_num in subject_list:\n",
        "            file_name = 'subject_' + str(sbj_num) + '.npy'\n",
        "            ppg = np.load(file_name)\n",
        "            ppg_list.append(ppg)\n",
        "\n",
        "        self.ppg_merge = np.concatenate(ppg_list, axis=0)\n",
        "                        \n",
        "    def __getitem__(self, index):\n",
        "        ppg_sample = self.ppg_merge[index, :7680]\n",
        "        ppg_tensor = torch.tensor(ppg_sample[np.newaxis, :]).float()\n",
        "\n",
        "        label = self.ppg_merge[index, 7680]\n",
        "        label_tensor = torch.tensor(label.astype(np.int64))\n",
        "\n",
        "        return ppg_tensor, label_tensor\n",
        "    \n",
        "    def __len__(self):\n",
        "        return self.ppg_merge.shape[0]\n",
        "        "
      ],
      "execution_count": null,
      "outputs": []
    },
    {
      "cell_type": "code",
      "metadata": {
        "id": "pkbTSRCCT4eo"
      },
      "source": [
        "train_dataset = PPG_Dataset(training_subject_list)\n",
        "train_loader = DataLoader(dataset=train_dataset, batch_size=120, shuffle=True)"
      ],
      "execution_count": null,
      "outputs": []
    },
    {
      "cell_type": "code",
      "metadata": {
        "id": "NH-vtDV48tJg"
      },
      "source": [
        "class Net(nn.Module):\n",
        "    def __init__(self, base_dim, num_classes=2):\n",
        "        super(Net, self).__init__()\n",
        "        self.feature = nn.Sequential(\n",
        "            conv_2_block(1, base_dim),\n",
        "            conv_2_block(base_dim, 2*base_dim),\n",
        "            conv_3_block(2*base_dim, 8*base_dim),\n",
        "            conv_3_block(8*base_dim, 16*base_dim),\n",
        "            conv_3_block(16*base_dim, 16*base_dim),\n",
        "        )\n",
        "        self.fc_layer = nn.Sequential(\n",
        "            nn.Linear(16*base_dim * 30, base_dim * 5),\n",
        "            nn.ReLU(True),\n",
        "            nn.Linear(base_dim * 5, base_dim),\n",
        "            nn.ReLU(True),\n",
        "            nn.Linear(base_dim, 20),\n",
        "            nn.ReLU(True),\n",
        "            nn.Linear(20, num_classes)\n",
        "    )\n",
        "    \n",
        "    def forward(self, x):\n",
        "        x = self.feature(x)\n",
        "        x = x.view(x.size(0), -1)\n",
        "        x = self.fc_layer(x)\n",
        "        return x        \n",
        "    \n",
        "        return x"
      ],
      "execution_count": null,
      "outputs": []
    },
    {
      "cell_type": "code",
      "metadata": {
        "id": "UgYdZX3MUbZn"
      },
      "source": [
        "net = Net(base_dim=8).to('cuda:0')\n",
        "loss_function = nn.CrossEntropyLoss()\n",
        "optimizer = torch.optim.Adam(net.parameters(), lr=0.0001)"
      ],
      "execution_count": null,
      "outputs": []
    },
    {
      "cell_type": "code",
      "metadata": {
        "colab": {
          "base_uri": "https://localhost:8080/"
        },
        "id": "-lTsqnScUbTF",
        "outputId": "f0dc51be-7e4c-4d7e-fda4-460c117437b4"
      },
      "source": [
        "for epoch in range(25):\n",
        "    loss_val = 0\n",
        "    for itr, data in enumerate(train_loader):\n",
        "        optimizer.zero_grad()\n",
        "        \n",
        "        ppg, label = data\n",
        "        ppg = ppg.to('cuda:0')\n",
        "        label = label.to('cuda:0')\n",
        "        \n",
        "        pred = net(ppg)\n",
        "        loss = loss_function(pred, label)\n",
        "        \n",
        "        loss.backward()\n",
        "        optimizer.step()\n",
        "        \n",
        "        loss_val += loss.item()\n",
        "        \n",
        "    print(\"Epoch:\", epoch+1, \"  , Loss: \", loss_val)"
      ],
      "execution_count": null,
      "outputs": [
        {
          "output_type": "stream",
          "name": "stdout",
          "text": [
            "Epoch: 1   , Loss:  3.645359456539154\n",
            "Epoch: 2   , Loss:  3.5260998606681824\n",
            "Epoch: 3   , Loss:  3.3838892579078674\n",
            "Epoch: 4   , Loss:  3.1695640683174133\n",
            "Epoch: 5   , Loss:  2.7737025022506714\n",
            "Epoch: 6   , Loss:  2.288233071565628\n",
            "Epoch: 7   , Loss:  1.978663295507431\n",
            "Epoch: 8   , Loss:  1.7991059124469757\n",
            "Epoch: 9   , Loss:  1.633703961968422\n",
            "Epoch: 10   , Loss:  1.5560382902622223\n",
            "Epoch: 11   , Loss:  1.5045807361602783\n",
            "Epoch: 12   , Loss:  1.4268393069505692\n",
            "Epoch: 13   , Loss:  1.374856412410736\n",
            "Epoch: 14   , Loss:  1.2972102910280228\n",
            "Epoch: 15   , Loss:  1.2112571448087692\n",
            "Epoch: 16   , Loss:  1.093684732913971\n",
            "Epoch: 17   , Loss:  0.9770910888910294\n",
            "Epoch: 18   , Loss:  0.8337254598736763\n",
            "Epoch: 19   , Loss:  0.6724540889263153\n",
            "Epoch: 20   , Loss:  0.5143420621752739\n",
            "Epoch: 21   , Loss:  0.37867724150419235\n",
            "Epoch: 22   , Loss:  0.28486817702651024\n",
            "Epoch: 23   , Loss:  0.20569687895476818\n",
            "Epoch: 24   , Loss:  0.14452447555959225\n",
            "Epoch: 25   , Loss:  0.10773770697414875\n"
          ]
        }
      ]
    },
    {
      "cell_type": "code",
      "metadata": {
        "id": "vbOo8eooVOCs"
      },
      "source": [
        "val_dataset = PPG_Dataset(validation_subject_list)\n",
        "val_loader = DataLoader(dataset=val_dataset, batch_size=100, shuffle=True)"
      ],
      "execution_count": null,
      "outputs": []
    },
    {
      "cell_type": "code",
      "metadata": {
        "colab": {
          "base_uri": "https://localhost:8080/"
        },
        "id": "I2c3cWsbVOAE",
        "outputId": "628108fc-f507-4df8-80e0-cd87263b44ab"
      },
      "source": [
        "pred_list = []\n",
        "label_list = []\n",
        "for itr, data in enumerate(val_loader):\n",
        "    ppg, label = data\n",
        "    ppg = ppg.to('cuda:0')\n",
        "    label = label.to('cuda:0')    \n",
        "    pred_test = net(ppg)\n",
        "\n",
        "    pred_category = torch.argmax(pred_test, dim=1)\n",
        "    \n",
        "    pred_list = pred_list + list(pred_category)\n",
        "    label_list = label_list + list(label)\n",
        "    \n",
        "accu = np.mean( np.array(pred_list)==np.array(label_list) )\n",
        "print(\"Validation accuracy: \", accu)"
      ],
      "execution_count": null,
      "outputs": [
        {
          "output_type": "stream",
          "name": "stdout",
          "text": [
            "Validation accuracy:  0.9754098360655737\n"
          ]
        }
      ]
    },
    {
      "cell_type": "code",
      "metadata": {
        "id": "estkhAGmWVGB"
      },
      "source": [
        "torch.save(net, \"model_97.pth\")"
      ],
      "execution_count": null,
      "outputs": []
    },
    {
      "cell_type": "code",
      "metadata": {
        "id": "2Jtvr6xd0elg"
      },
      "source": [
        "net_load = torch.load(\"model.pth\")"
      ],
      "execution_count": null,
      "outputs": []
    },
    {
      "cell_type": "code",
      "metadata": {
        "id": "jrdC1iaD0elh"
      },
      "source": [
        "test_dataset = PPG_Dataset(test_subject_list)\n",
        "test_loader = DataLoader(dataset=test_dataset, batch_size=100, shuffle=True)"
      ],
      "execution_count": null,
      "outputs": []
    },
    {
      "cell_type": "code",
      "metadata": {
        "colab": {
          "base_uri": "https://localhost:8080/"
        },
        "id": "s3T9Tcws0eli",
        "outputId": "020f0527-476f-4f73-d8bd-c92f334e698f"
      },
      "source": [
        "pred_list = []\n",
        "label_list = []\n",
        "for itr, data in enumerate(test_loader):\n",
        "    ppg, label = data\n",
        "    \n",
        "    pred_test = net_load(ppg)\n",
        "    pred_category = torch.argmax(pred_test, dim=1)\n",
        "    \n",
        "    pred_list = pred_list + list(pred_category)\n",
        "    label_list = label_list + list(label)\n",
        "    \n",
        "accu = np.mean( np.array(pred_list)==np.array(label_list) )\n",
        "print(\"Test accuracy: \", accu)"
      ],
      "execution_count": null,
      "outputs": [
        {
          "output_type": "stream",
          "name": "stdout",
          "text": [
            "Test accuracy:  0.9016393442622951\n"
          ]
        }
      ]
    },
    {
      "cell_type": "code",
      "metadata": {
        "id": "n-LGaZYJXGZM"
      },
      "source": [
        ""
      ],
      "execution_count": null,
      "outputs": []
    }
  ]
}