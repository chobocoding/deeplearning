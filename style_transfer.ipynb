{
  "nbformat": 4,
  "nbformat_minor": 0,
  "metadata": {
    "colab": {
      "name": "hw7_201711001.ipynb",
      "provenance": [],
      "collapsed_sections": [],
      "machine_shape": "hm",
      "include_colab_link": true
    },
    "kernelspec": {
      "name": "python3",
      "display_name": "Python 3"
    },
    "language_info": {
      "name": "python"
    },
    "accelerator": "GPU",
    "widgets": {
      "application/vnd.jupyter.widget-state+json": {
        "695cd632b45e4786820d50794f5d006f": {
          "model_module": "@jupyter-widgets/controls",
          "model_name": "HBoxModel",
          "model_module_version": "1.5.0",
          "state": {
            "_view_name": "HBoxView",
            "_dom_classes": [],
            "_model_name": "HBoxModel",
            "_view_module": "@jupyter-widgets/controls",
            "_model_module_version": "1.5.0",
            "_view_count": null,
            "_view_module_version": "1.5.0",
            "box_style": "",
            "layout": "IPY_MODEL_f16918d78aff4aed830871a841d406a8",
            "_model_module": "@jupyter-widgets/controls",
            "children": [
              "IPY_MODEL_2ef9dd11e4bb42eebef36fd84686eaf2",
              "IPY_MODEL_ebf191043a0349db913150591b0b773d",
              "IPY_MODEL_b6feab6a6f83415daad87ab16f86b9f3"
            ]
          }
        },
        "f16918d78aff4aed830871a841d406a8": {
          "model_module": "@jupyter-widgets/base",
          "model_name": "LayoutModel",
          "model_module_version": "1.2.0",
          "state": {
            "_view_name": "LayoutView",
            "grid_template_rows": null,
            "right": null,
            "justify_content": null,
            "_view_module": "@jupyter-widgets/base",
            "overflow": null,
            "_model_module_version": "1.2.0",
            "_view_count": null,
            "flex_flow": null,
            "width": null,
            "min_width": null,
            "border": null,
            "align_items": null,
            "bottom": null,
            "_model_module": "@jupyter-widgets/base",
            "top": null,
            "grid_column": null,
            "overflow_y": null,
            "overflow_x": null,
            "grid_auto_flow": null,
            "grid_area": null,
            "grid_template_columns": null,
            "flex": null,
            "_model_name": "LayoutModel",
            "justify_items": null,
            "grid_row": null,
            "max_height": null,
            "align_content": null,
            "visibility": null,
            "align_self": null,
            "height": null,
            "min_height": null,
            "padding": null,
            "grid_auto_rows": null,
            "grid_gap": null,
            "max_width": null,
            "order": null,
            "_view_module_version": "1.2.0",
            "grid_template_areas": null,
            "object_position": null,
            "object_fit": null,
            "grid_auto_columns": null,
            "margin": null,
            "display": null,
            "left": null
          }
        },
        "2ef9dd11e4bb42eebef36fd84686eaf2": {
          "model_module": "@jupyter-widgets/controls",
          "model_name": "HTMLModel",
          "model_module_version": "1.5.0",
          "state": {
            "_view_name": "HTMLView",
            "style": "IPY_MODEL_91a66a43a6da4034a2ad8c36dcff718b",
            "_dom_classes": [],
            "description": "",
            "_model_name": "HTMLModel",
            "placeholder": "​",
            "_view_module": "@jupyter-widgets/controls",
            "_model_module_version": "1.5.0",
            "value": "100%",
            "_view_count": null,
            "_view_module_version": "1.5.0",
            "description_tooltip": null,
            "_model_module": "@jupyter-widgets/controls",
            "layout": "IPY_MODEL_6cd2a8f7bb664152bb97ff8223ad6e37"
          }
        },
        "ebf191043a0349db913150591b0b773d": {
          "model_module": "@jupyter-widgets/controls",
          "model_name": "FloatProgressModel",
          "model_module_version": "1.5.0",
          "state": {
            "_view_name": "ProgressView",
            "style": "IPY_MODEL_6dcfd1e96b0c43f589a64cce26834f1b",
            "_dom_classes": [],
            "description": "",
            "_model_name": "FloatProgressModel",
            "bar_style": "success",
            "max": 553433881,
            "_view_module": "@jupyter-widgets/controls",
            "_model_module_version": "1.5.0",
            "value": 553433881,
            "_view_count": null,
            "_view_module_version": "1.5.0",
            "orientation": "horizontal",
            "min": 0,
            "description_tooltip": null,
            "_model_module": "@jupyter-widgets/controls",
            "layout": "IPY_MODEL_2eba1b4b2997403398c99d24824d155b"
          }
        },
        "b6feab6a6f83415daad87ab16f86b9f3": {
          "model_module": "@jupyter-widgets/controls",
          "model_name": "HTMLModel",
          "model_module_version": "1.5.0",
          "state": {
            "_view_name": "HTMLView",
            "style": "IPY_MODEL_de1974526389427db16482811a893106",
            "_dom_classes": [],
            "description": "",
            "_model_name": "HTMLModel",
            "placeholder": "​",
            "_view_module": "@jupyter-widgets/controls",
            "_model_module_version": "1.5.0",
            "value": " 528M/528M [00:04&lt;00:00, 123MB/s]",
            "_view_count": null,
            "_view_module_version": "1.5.0",
            "description_tooltip": null,
            "_model_module": "@jupyter-widgets/controls",
            "layout": "IPY_MODEL_c4a5a4e9cd614038a9b7f635d45574d2"
          }
        },
        "91a66a43a6da4034a2ad8c36dcff718b": {
          "model_module": "@jupyter-widgets/controls",
          "model_name": "DescriptionStyleModel",
          "model_module_version": "1.5.0",
          "state": {
            "_view_name": "StyleView",
            "_model_name": "DescriptionStyleModel",
            "description_width": "",
            "_view_module": "@jupyter-widgets/base",
            "_model_module_version": "1.5.0",
            "_view_count": null,
            "_view_module_version": "1.2.0",
            "_model_module": "@jupyter-widgets/controls"
          }
        },
        "6cd2a8f7bb664152bb97ff8223ad6e37": {
          "model_module": "@jupyter-widgets/base",
          "model_name": "LayoutModel",
          "model_module_version": "1.2.0",
          "state": {
            "_view_name": "LayoutView",
            "grid_template_rows": null,
            "right": null,
            "justify_content": null,
            "_view_module": "@jupyter-widgets/base",
            "overflow": null,
            "_model_module_version": "1.2.0",
            "_view_count": null,
            "flex_flow": null,
            "width": null,
            "min_width": null,
            "border": null,
            "align_items": null,
            "bottom": null,
            "_model_module": "@jupyter-widgets/base",
            "top": null,
            "grid_column": null,
            "overflow_y": null,
            "overflow_x": null,
            "grid_auto_flow": null,
            "grid_area": null,
            "grid_template_columns": null,
            "flex": null,
            "_model_name": "LayoutModel",
            "justify_items": null,
            "grid_row": null,
            "max_height": null,
            "align_content": null,
            "visibility": null,
            "align_self": null,
            "height": null,
            "min_height": null,
            "padding": null,
            "grid_auto_rows": null,
            "grid_gap": null,
            "max_width": null,
            "order": null,
            "_view_module_version": "1.2.0",
            "grid_template_areas": null,
            "object_position": null,
            "object_fit": null,
            "grid_auto_columns": null,
            "margin": null,
            "display": null,
            "left": null
          }
        },
        "6dcfd1e96b0c43f589a64cce26834f1b": {
          "model_module": "@jupyter-widgets/controls",
          "model_name": "ProgressStyleModel",
          "model_module_version": "1.5.0",
          "state": {
            "_view_name": "StyleView",
            "_model_name": "ProgressStyleModel",
            "description_width": "",
            "_view_module": "@jupyter-widgets/base",
            "_model_module_version": "1.5.0",
            "_view_count": null,
            "_view_module_version": "1.2.0",
            "bar_color": null,
            "_model_module": "@jupyter-widgets/controls"
          }
        },
        "2eba1b4b2997403398c99d24824d155b": {
          "model_module": "@jupyter-widgets/base",
          "model_name": "LayoutModel",
          "model_module_version": "1.2.0",
          "state": {
            "_view_name": "LayoutView",
            "grid_template_rows": null,
            "right": null,
            "justify_content": null,
            "_view_module": "@jupyter-widgets/base",
            "overflow": null,
            "_model_module_version": "1.2.0",
            "_view_count": null,
            "flex_flow": null,
            "width": null,
            "min_width": null,
            "border": null,
            "align_items": null,
            "bottom": null,
            "_model_module": "@jupyter-widgets/base",
            "top": null,
            "grid_column": null,
            "overflow_y": null,
            "overflow_x": null,
            "grid_auto_flow": null,
            "grid_area": null,
            "grid_template_columns": null,
            "flex": null,
            "_model_name": "LayoutModel",
            "justify_items": null,
            "grid_row": null,
            "max_height": null,
            "align_content": null,
            "visibility": null,
            "align_self": null,
            "height": null,
            "min_height": null,
            "padding": null,
            "grid_auto_rows": null,
            "grid_gap": null,
            "max_width": null,
            "order": null,
            "_view_module_version": "1.2.0",
            "grid_template_areas": null,
            "object_position": null,
            "object_fit": null,
            "grid_auto_columns": null,
            "margin": null,
            "display": null,
            "left": null
          }
        },
        "de1974526389427db16482811a893106": {
          "model_module": "@jupyter-widgets/controls",
          "model_name": "DescriptionStyleModel",
          "model_module_version": "1.5.0",
          "state": {
            "_view_name": "StyleView",
            "_model_name": "DescriptionStyleModel",
            "description_width": "",
            "_view_module": "@jupyter-widgets/base",
            "_model_module_version": "1.5.0",
            "_view_count": null,
            "_view_module_version": "1.2.0",
            "_model_module": "@jupyter-widgets/controls"
          }
        },
        "c4a5a4e9cd614038a9b7f635d45574d2": {
          "model_module": "@jupyter-widgets/base",
          "model_name": "LayoutModel",
          "model_module_version": "1.2.0",
          "state": {
            "_view_name": "LayoutView",
            "grid_template_rows": null,
            "right": null,
            "justify_content": null,
            "_view_module": "@jupyter-widgets/base",
            "overflow": null,
            "_model_module_version": "1.2.0",
            "_view_count": null,
            "flex_flow": null,
            "width": null,
            "min_width": null,
            "border": null,
            "align_items": null,
            "bottom": null,
            "_model_module": "@jupyter-widgets/base",
            "top": null,
            "grid_column": null,
            "overflow_y": null,
            "overflow_x": null,
            "grid_auto_flow": null,
            "grid_area": null,
            "grid_template_columns": null,
            "flex": null,
            "_model_name": "LayoutModel",
            "justify_items": null,
            "grid_row": null,
            "max_height": null,
            "align_content": null,
            "visibility": null,
            "align_self": null,
            "height": null,
            "min_height": null,
            "padding": null,
            "grid_auto_rows": null,
            "grid_gap": null,
            "max_width": null,
            "order": null,
            "_view_module_version": "1.2.0",
            "grid_template_areas": null,
            "object_position": null,
            "object_fit": null,
            "grid_auto_columns": null,
            "margin": null,
            "display": null,
            "left": null
          }
        }
      }
    }
  },
  "cells": [
    {
      "cell_type": "markdown",
      "metadata": {
        "id": "view-in-github",
        "colab_type": "text"
      },
      "source": [
        "<a href=\"https://colab.research.google.com/github/chobocoding/deeplearning/blob/main/style_transfer.ipynb\" target=\"_parent\"><img src=\"https://colab.research.google.com/assets/colab-badge.svg\" alt=\"Open In Colab\"/></a>"
      ]
    },
    {
      "cell_type": "code",
      "metadata": {
        "id": "Xl_jh_pIXJbG"
      },
      "source": [
        "import torch\n",
        "import torch.nn as nn\n",
        "import torchvision.models as models\n",
        "import torchvision.transforms as transforms\n",
        "import matplotlib.pyplot as plt\n",
        "from PIL import Image\n",
        "\n",
        "# content_path = '/content/cat.jpg'\n",
        "# style_path = '/content/monet.jpg'\n",
        "\n",
        "device = \"cuda:0\"\n",
        "content_block = 2"
      ],
      "execution_count": null,
      "outputs": []
    },
    {
      "cell_type": "markdown",
      "metadata": {
        "id": "4aYG_NyWY4Wu"
      },
      "source": [
        "### 1. Data preparation"
      ]
    },
    {
      "cell_type": "code",
      "metadata": {
        "id": "qlE9UsE7Y6aD"
      },
      "source": [
        "def preprocess(img_dir): # HxWxC or CxHxW -> BxCxHxW (B=1)\n",
        "    img = Image.open(img_dir) # 영상 불러오기\n",
        "    transform = transforms.Compose( [transforms.ToTensor()] )\n",
        "    img = transform(img).view(-1, 3, img.height, img.width)\n",
        "    return img # tensor"
      ],
      "execution_count": null,
      "outputs": []
    },
    {
      "cell_type": "code",
      "metadata": {
        "id": "CjNnPx4_aza7"
      },
      "source": [
        "def postprocess(tensor):  # BxCxHxW -> HxWxC\n",
        "    img = tensor.clone()\n",
        "    img = img.clamp(0, 1)\n",
        "    img = torch.squeeze(img, dim=0)\n",
        "    img = torch.transpose(img, 0, 1)\n",
        "    img = torch.transpose(img, 1, 2)\n",
        "    return img"
      ],
      "execution_count": null,
      "outputs": []
    },
    {
      "cell_type": "code",
      "metadata": {
        "id": "C_J4K0oybrja"
      },
      "source": [
        "content_img = preprocess(content_path).to(device)\n",
        "style_img = preprocess(style_path).to(device)\n",
        "generated_img = content_img.clone().requires_grad_().to(device)"
      ],
      "execution_count": null,
      "outputs": []
    },
    {
      "cell_type": "markdown",
      "metadata": {
        "id": "EaqLGBxncljO"
      },
      "source": [
        "### 2. Model preparation"
      ]
    },
    {
      "cell_type": "code",
      "metadata": {
        "id": "JwVTOFYTcLUa",
        "colab": {
          "base_uri": "https://localhost:8080/",
          "height": 66,
          "referenced_widgets": [
            "695cd632b45e4786820d50794f5d006f",
            "f16918d78aff4aed830871a841d406a8",
            "2ef9dd11e4bb42eebef36fd84686eaf2",
            "ebf191043a0349db913150591b0b773d",
            "b6feab6a6f83415daad87ab16f86b9f3",
            "91a66a43a6da4034a2ad8c36dcff718b",
            "6cd2a8f7bb664152bb97ff8223ad6e37",
            "6dcfd1e96b0c43f589a64cce26834f1b",
            "2eba1b4b2997403398c99d24824d155b",
            "de1974526389427db16482811a893106",
            "c4a5a4e9cd614038a9b7f635d45574d2"
          ]
        },
        "outputId": "76cbfe70-4c53-4bfa-eaf6-1d0445fb87aa"
      },
      "source": [
        "vgg16 = models.vgg16(pretrained=True)"
      ],
      "execution_count": null,
      "outputs": [
        {
          "output_type": "stream",
          "name": "stderr",
          "text": [
            "Downloading: \"https://download.pytorch.org/models/vgg16-397923af.pth\" to /root/.cache/torch/hub/checkpoints/vgg16-397923af.pth\n"
          ]
        },
        {
          "output_type": "display_data",
          "data": {
            "application/vnd.jupyter.widget-view+json": {
              "model_id": "695cd632b45e4786820d50794f5d006f",
              "version_minor": 0,
              "version_major": 2
            },
            "text/plain": [
              "  0%|          | 0.00/528M [00:00<?, ?B/s]"
            ]
          },
          "metadata": {}
        }
      ]
    },
    {
      "cell_type": "code",
      "metadata": {
        "id": "eenLZGuvcr2g",
        "colab": {
          "base_uri": "https://localhost:8080/"
        },
        "outputId": "986ddf9e-2162-4ef3-edd0-74c63ac5e2f7"
      },
      "source": [
        "vgg16"
      ],
      "execution_count": null,
      "outputs": [
        {
          "output_type": "execute_result",
          "data": {
            "text/plain": [
              "VGG(\n",
              "  (features): Sequential(\n",
              "    (0): Conv2d(3, 64, kernel_size=(3, 3), stride=(1, 1), padding=(1, 1))\n",
              "    (1): ReLU(inplace=True)\n",
              "    (2): Conv2d(64, 64, kernel_size=(3, 3), stride=(1, 1), padding=(1, 1))\n",
              "    (3): ReLU(inplace=True)\n",
              "    (4): MaxPool2d(kernel_size=2, stride=2, padding=0, dilation=1, ceil_mode=False)\n",
              "    (5): Conv2d(64, 128, kernel_size=(3, 3), stride=(1, 1), padding=(1, 1))\n",
              "    (6): ReLU(inplace=True)\n",
              "    (7): Conv2d(128, 128, kernel_size=(3, 3), stride=(1, 1), padding=(1, 1))\n",
              "    (8): ReLU(inplace=True)\n",
              "    (9): MaxPool2d(kernel_size=2, stride=2, padding=0, dilation=1, ceil_mode=False)\n",
              "    (10): Conv2d(128, 256, kernel_size=(3, 3), stride=(1, 1), padding=(1, 1))\n",
              "    (11): ReLU(inplace=True)\n",
              "    (12): Conv2d(256, 256, kernel_size=(3, 3), stride=(1, 1), padding=(1, 1))\n",
              "    (13): ReLU(inplace=True)\n",
              "    (14): Conv2d(256, 256, kernel_size=(3, 3), stride=(1, 1), padding=(1, 1))\n",
              "    (15): ReLU(inplace=True)\n",
              "    (16): MaxPool2d(kernel_size=2, stride=2, padding=0, dilation=1, ceil_mode=False)\n",
              "    (17): Conv2d(256, 512, kernel_size=(3, 3), stride=(1, 1), padding=(1, 1))\n",
              "    (18): ReLU(inplace=True)\n",
              "    (19): Conv2d(512, 512, kernel_size=(3, 3), stride=(1, 1), padding=(1, 1))\n",
              "    (20): ReLU(inplace=True)\n",
              "    (21): Conv2d(512, 512, kernel_size=(3, 3), stride=(1, 1), padding=(1, 1))\n",
              "    (22): ReLU(inplace=True)\n",
              "    (23): MaxPool2d(kernel_size=2, stride=2, padding=0, dilation=1, ceil_mode=False)\n",
              "    (24): Conv2d(512, 512, kernel_size=(3, 3), stride=(1, 1), padding=(1, 1))\n",
              "    (25): ReLU(inplace=True)\n",
              "    (26): Conv2d(512, 512, kernel_size=(3, 3), stride=(1, 1), padding=(1, 1))\n",
              "    (27): ReLU(inplace=True)\n",
              "    (28): Conv2d(512, 512, kernel_size=(3, 3), stride=(1, 1), padding=(1, 1))\n",
              "    (29): ReLU(inplace=True)\n",
              "    (30): MaxPool2d(kernel_size=2, stride=2, padding=0, dilation=1, ceil_mode=False)\n",
              "  )\n",
              "  (avgpool): AdaptiveAvgPool2d(output_size=(7, 7))\n",
              "  (classifier): Sequential(\n",
              "    (0): Linear(in_features=25088, out_features=4096, bias=True)\n",
              "    (1): ReLU(inplace=True)\n",
              "    (2): Dropout(p=0.5, inplace=False)\n",
              "    (3): Linear(in_features=4096, out_features=4096, bias=True)\n",
              "    (4): ReLU(inplace=True)\n",
              "    (5): Dropout(p=0.5, inplace=False)\n",
              "    (6): Linear(in_features=4096, out_features=1000, bias=True)\n",
              "  )\n",
              ")"
            ]
          },
          "metadata": {},
          "execution_count": 5
        }
      ]
    },
    {
      "cell_type": "code",
      "metadata": {
        "id": "Qyyzj53EdQIb"
      },
      "source": [
        "class VGG_FEATURE(nn.Module):\n",
        "    def __init__(self):\n",
        "        super(VGG_FEATURE, self).__init__()\n",
        "        self.block1 = nn.Sequential(*list(vgg16.features.children())[0:3])\n",
        "        self.block2 = nn.Sequential(*list(vgg16.features.children())[3:8])\n",
        "        self.block3 = nn.Sequential(*list(vgg16.features.children())[8:15])\n",
        "        self.block4 = nn.Sequential(*list(vgg16.features.children())[15:22])\n",
        "        self.block5 = nn.Sequential(*list(vgg16.features.children())[22:29])\n",
        "        \n",
        "    def forward(self,x):\n",
        "        out1 = self.block1(x)\n",
        "        out2 = self.block2(out1)\n",
        "        out3 = self.block3(out2)\n",
        "        out4 = self.block4(out3)\n",
        "        out5 = self.block5(out4)\n",
        "\n",
        "        return out1, out2, out3, out4, out5"
      ],
      "execution_count": null,
      "outputs": []
    },
    {
      "cell_type": "code",
      "metadata": {
        "id": "zp4DDAdIfRp3"
      },
      "source": [
        "vgg_feature = VGG_FEATURE()\n",
        "for param in vgg_feature.parameters():\n",
        "    param.requires_grad = False\n",
        "\n",
        "vgg_feature = vgg_feature.to(device)"
      ],
      "execution_count": null,
      "outputs": []
    },
    {
      "cell_type": "code",
      "source": [
        "vgg_feature"
      ],
      "metadata": {
        "id": "0S18ptK_k0ug"
      },
      "execution_count": null,
      "outputs": []
    },
    {
      "cell_type": "markdown",
      "metadata": {
        "id": "XTNJF2dIgT9H"
      },
      "source": [
        "### 3. Loss function and optimization method"
      ]
    },
    {
      "cell_type": "code",
      "metadata": {
        "id": "FmOiwlhwgZFq"
      },
      "source": [
        "class GramMatrix(nn.Module):\n",
        "    def forward(self, input):\n",
        "        b, c, h, w = input.size()\n",
        "        F = input.view(b, c, h*w)\n",
        "        G = torch.bmm(F, F.transpose(1, 2))\n",
        "        return G"
      ],
      "execution_count": null,
      "outputs": []
    },
    {
      "cell_type": "code",
      "metadata": {
        "id": "w1gTEYMWg9Jm"
      },
      "source": [
        "class GramMSELoss(nn.Module):\n",
        "    def forward(self, input, target): # input: feature map, target: target gram matrix\n",
        "        out = nn.MSELoss()(GramMatrix()(input), target)\n",
        "        return out"
      ],
      "execution_count": null,
      "outputs": []
    },
    {
      "cell_type": "code",
      "metadata": {
        "id": "GNKxCj31fmXr"
      },
      "source": [
        "style_target = [GramMatrix()(feature_map).to(device) for feature_map in vgg_feature(style_img)]\n",
        "content_target = vgg_feature(content_img)[content_block-1]\n",
        "style_weight = [ 1/(n**2)   for n in [64,128,256,512,512] ] # 사용자 임의 설정"
      ],
      "execution_count": null,
      "outputs": []
    },
    {
      "cell_type": "code",
      "metadata": {
        "id": "JZWaUolKj5io"
      },
      "source": [
        "optimizer = torch.optim.Adam([generated_img], lr=0.01)"
      ],
      "execution_count": null,
      "outputs": []
    },
    {
      "cell_type": "markdown",
      "metadata": {
        "id": "IMSncg-wkuxH"
      },
      "source": [
        "### 4. Image generation"
      ]
    },
    {
      "cell_type": "code",
      "metadata": {
        "colab": {
          "base_uri": "https://localhost:8080/"
        },
        "id": "mfL5oYiEkrw2",
        "outputId": "2d48d657-0dc9-4665-d8b0-938683f7eb77"
      },
      "source": [
        "for epoch in range(5000):\n",
        "    optimizer.zero_grad()\n",
        "    out = vgg_feature(generated_img)\n",
        "\n",
        "    ## style loss ##\n",
        "    style_loss = [GramMSELoss().to(device)(out[i], style_target[i]) * style_weight[i] for i in range(5)]\n",
        "\n",
        "    ## content loss ##\n",
        "    content_loss = nn.MSELoss().to(device)(out[content_block-1], content_target)\n",
        "\n",
        "    ## total loss ##\n",
        "    total_loss = 10 * sum(style_loss) + torch.mean(content_loss)\n",
        "\n",
        "    total_loss.backward()\n",
        "    if epoch % 100 == 0:\n",
        "        print(total_loss.item())\n",
        "\n",
        "    optimizer.step()"
      ],
      "execution_count": null,
      "outputs": [
        {
          "output_type": "stream",
          "name": "stdout",
          "text": [
            "1313032.0\n",
            "14492.4013671875\n",
            "8514.51953125\n",
            "5725.86279296875\n",
            "3973.02685546875\n",
            "2794.420166015625\n",
            "1997.4608154296875\n",
            "1462.0341796875\n",
            "1107.4403076171875\n",
            "871.6433715820312\n",
            "712.0714721679688\n",
            "599.763427734375\n",
            "518.1470947265625\n",
            "455.8388366699219\n",
            "406.2359619140625\n",
            "376.6585998535156\n",
            "353.1981506347656\n",
            "301.90411376953125\n",
            "370.0857849121094\n",
            "257.4796142578125\n",
            "242.96578979492188\n",
            "324.71331787109375\n",
            "221.2760467529297\n",
            "206.21054077148438\n",
            "192.041259765625\n",
            "324.1377868652344\n",
            "177.3944854736328\n",
            "190.6250457763672\n",
            "313.5671691894531\n",
            "167.3893280029297\n",
            "152.01382446289062\n",
            "146.56886291503906\n",
            "139.54649353027344\n",
            "295.7955017089844\n",
            "137.60853576660156\n",
            "130.0223388671875\n",
            "130.62850952148438\n",
            "118.76524353027344\n",
            "162.29122924804688\n",
            "167.584228515625\n",
            "114.22567749023438\n",
            "1496.996826171875\n",
            "126.81050109863281\n",
            "131.07293701171875\n",
            "109.42030334472656\n",
            "109.90428161621094\n",
            "98.19574737548828\n",
            "96.11534118652344\n",
            "249.58328247070312\n",
            "92.29035949707031\n"
          ]
        }
      ]
    },
    {
      "cell_type": "code",
      "source": [
        "generated_img"
      ],
      "metadata": {
        "colab": {
          "base_uri": "https://localhost:8080/"
        },
        "id": "vlD5-KUQnMDW",
        "outputId": "488208ab-8b0f-4227-ad7e-78692c856a15"
      },
      "execution_count": null,
      "outputs": [
        {
          "output_type": "execute_result",
          "data": {
            "text/plain": [
              "tensor([[[[ 1.0463,  0.3815,  1.7588,  ...,  0.8923,  0.9568,  0.7184],\n",
              "          [ 0.1126, -0.0974,  0.8023,  ...,  0.2799, -0.0892,  0.2071],\n",
              "          [-0.3664, -0.2276,  0.9592,  ...,  0.8878,  0.4971,  0.6724],\n",
              "          ...,\n",
              "          [-0.9685, -0.6520, -0.1284,  ...,  0.9369,  0.8797,  0.9516],\n",
              "          [-0.6925, -0.1504,  0.2904,  ...,  0.2242,  0.7060,  0.5077],\n",
              "          [-0.6108, -0.1756, -1.1381,  ...,  1.7792,  0.5778,  1.7149]],\n",
              "\n",
              "         [[ 1.3575, -0.0525, -0.5649,  ..., -0.1836, -0.5308, -0.1744],\n",
              "          [ 0.9400,  0.2518,  0.3838,  ...,  0.7730,  0.6216,  1.0065],\n",
              "          [ 0.6158,  0.7575,  0.2199,  ...,  0.5281,  0.4781,  0.4345],\n",
              "          ...,\n",
              "          [ 0.1328,  0.3055,  0.2128,  ...,  0.6687,  0.7902,  0.8155],\n",
              "          [-0.3287, -0.0988, -0.1837,  ...,  0.3650,  0.6479,  0.3381],\n",
              "          [-0.4839,  0.0115,  0.0953,  ...,  1.0024,  0.7215,  1.7215]],\n",
              "\n",
              "         [[-0.3283,  0.2913,  1.9381,  ...,  0.7382,  0.9022, -0.3242],\n",
              "          [ 0.2774,  0.9130,  0.3560,  ...,  0.2646,  0.0173,  0.0200],\n",
              "          [-0.0087,  0.4090, -0.1884,  ...,  0.4732,  0.6425,  0.5914],\n",
              "          ...,\n",
              "          [-0.0422,  0.5265, -0.1016,  ...,  0.7448,  0.3132,  0.7885],\n",
              "          [ 0.0688, -0.2133, -0.0025,  ...,  0.6699,  0.8334,  0.4277],\n",
              "          [-0.5820,  0.0472,  1.0657,  ...,  0.7442,  0.1772,  0.6963]]]],\n",
              "       device='cuda:0', requires_grad=True)"
            ]
          },
          "metadata": {},
          "execution_count": 26
        }
      ]
    },
    {
      "cell_type": "code",
      "source": [
        "gen_img"
      ],
      "metadata": {
        "id": "scE9BRshnRcW",
        "outputId": "7ae45edd-351a-4c31-8a08-3d1de595ac65",
        "colab": {
          "base_uri": "https://localhost:8080/"
        }
      },
      "execution_count": null,
      "outputs": [
        {
          "output_type": "execute_result",
          "data": {
            "text/plain": [
              "array([[[1.        , 1.        , 0.        ],\n",
              "        [0.38146672, 0.        , 0.29127294],\n",
              "        [1.        , 0.        , 1.        ],\n",
              "        ...,\n",
              "        [0.89225036, 0.        , 0.7381911 ],\n",
              "        [0.95678407, 0.        , 0.90220535],\n",
              "        [0.71837217, 0.        , 0.        ]],\n",
              "\n",
              "       [[0.11258975, 0.9400443 , 0.27735096],\n",
              "        [0.        , 0.2517887 , 0.91299933],\n",
              "        [0.8023229 , 0.3838446 , 0.35604396],\n",
              "        ...,\n",
              "        [0.2799329 , 0.7730416 , 0.2646482 ],\n",
              "        [0.        , 0.6216409 , 0.0172719 ],\n",
              "        [0.20711522, 1.        , 0.01996354]],\n",
              "\n",
              "       [[0.        , 0.6158038 , 0.        ],\n",
              "        [0.        , 0.7574698 , 0.40898132],\n",
              "        [0.9592142 , 0.21991868, 0.        ],\n",
              "        ...,\n",
              "        [0.8877644 , 0.5281097 , 0.47318894],\n",
              "        [0.49711117, 0.47805536, 0.64252335],\n",
              "        [0.67243576, 0.43450662, 0.59142625]],\n",
              "\n",
              "       ...,\n",
              "\n",
              "       [[0.        , 0.13275439, 0.        ],\n",
              "        [0.        , 0.3055016 , 0.526516  ],\n",
              "        [0.        , 0.21282795, 0.        ],\n",
              "        ...,\n",
              "        [0.9369424 , 0.6686972 , 0.7448491 ],\n",
              "        [0.8796712 , 0.79019517, 0.31323415],\n",
              "        [0.9516307 , 0.8155229 , 0.7884794 ]],\n",
              "\n",
              "       [[0.        , 0.        , 0.0688221 ],\n",
              "        [0.        , 0.        , 0.        ],\n",
              "        [0.29041028, 0.        , 0.        ],\n",
              "        ...,\n",
              "        [0.22424445, 0.36504716, 0.66986823],\n",
              "        [0.70602643, 0.64793384, 0.8334399 ],\n",
              "        [0.5077309 , 0.338104  , 0.4277085 ]],\n",
              "\n",
              "       [[0.        , 0.        , 0.        ],\n",
              "        [0.        , 0.01148531, 0.04717837],\n",
              "        [0.        , 0.09528638, 1.        ],\n",
              "        ...,\n",
              "        [1.        , 1.        , 0.74415356],\n",
              "        [0.57779163, 0.7215084 , 0.17717822],\n",
              "        [1.        , 1.        , 0.69626856]]], dtype=float32)"
            ]
          },
          "metadata": {},
          "execution_count": 27
        }
      ]
    },
    {
      "cell_type": "code",
      "metadata": {
        "colab": {
          "base_uri": "https://localhost:8080/",
          "height": 248
        },
        "id": "7MdbAr39kfdS",
        "outputId": "2c104e0c-2206-43b0-c81a-ad45d9f1425b"
      },
      "source": [
        "gen_img = postprocess(generated_img.cpu()).data.numpy()\n",
        "plt.imshow(gen_img)\n",
        "plt.axis(False)\n",
        "plt.show()"
      ],
      "execution_count": null,
      "outputs": [
        {
          "output_type": "display_data",
          "data": {
            "image/png": "[encoded data removed]",
            "text/plain": [
              "<Figure size 432x288 with 1 Axes>"
            ]
          },
          "metadata": {
            "needs_background": "light"
          }
        }
      ]
    },
    {
      "cell_type": "code",
      "source": [
        ""
      ],
      "metadata": {
        "id": "O7y1ObSUlC0z"
      },
      "execution_count": null,
      "outputs": []
    }
  ]
}